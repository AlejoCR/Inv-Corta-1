{
 "cells": [
  {
   "cell_type": "markdown",
   "metadata": {},
   "source": [
    "# PARTE I TUTORIAL PANDAS"
   ]
  },
  {
   "cell_type": "markdown",
   "metadata": {},
   "source": [
    "Este es un tutorial de algunos de los comandos básicos usandos en librería de python pandas para el análisis de datos\n",
    "\n",
    "Primero importamos las librerías necesarias para usar las funciones de pandas"
   ]
  },
  {
   "cell_type": "code",
   "execution_count": 1,
   "metadata": {},
   "outputs": [],
   "source": [
    "import pandas as pd\n",
    "import numpy as np"
   ]
  },
  {
   "cell_type": "markdown",
   "metadata": {},
   "source": [
    "## Series\n",
    "\n",
    "Series es una de las formas básicas de representación de datos en Pandas. Estás son lista en una dimension que puede incluir elementos de cualquier tipo \n",
    "\n",
    "Forma básica de crear una serie:"
   ]
  },
  {
   "cell_type": "code",
   "execution_count": 2,
   "metadata": {},
   "outputs": [
    {
     "name": "stdout",
     "output_type": "stream",
     "text": [
      "0    1\n",
      "1    2\n",
      "2    3\n",
      "3    4\n",
      "4    5\n",
      "dtype: int64\n"
     ]
    }
   ],
   "source": [
    "data = [1,2,3,4,5]\n",
    "ser = pd.Series(data)\n",
    "print(ser)"
   ]
  },
  {
   "cell_type": "markdown",
   "metadata": {},
   "source": [
    "Como se observa en el ejemplo anterior la primera columna corresponde a la indexación y la segunda columna a los datos de la serie. La última linea corresponde al tipo de datos, como no se definio al crear la lista se toma el mismo valor que los datos de entrada de la serie. \n"
   ]
  },
  {
   "cell_type": "markdown",
   "metadata": {},
   "source": [
    "Obtener elemento de una serie por indexación"
   ]
  },
  {
   "cell_type": "code",
   "execution_count": 3,
   "metadata": {},
   "outputs": [
    {
     "data": {
      "text/plain": [
       "4"
      ]
     },
     "execution_count": 3,
     "metadata": {},
     "output_type": "execute_result"
    }
   ],
   "source": [
    "ser[3]"
   ]
  },
  {
   "cell_type": "markdown",
   "metadata": {},
   "source": [
    "Se puede crear indexacion por etiquetas"
   ]
  },
  {
   "cell_type": "code",
   "execution_count": 4,
   "metadata": {},
   "outputs": [
    {
     "name": "stdout",
     "output_type": "stream",
     "text": [
      "a    1\n",
      "b    2\n",
      "c    3\n",
      "d    4\n",
      "e    5\n",
      "dtype: int64\n"
     ]
    },
    {
     "data": {
      "text/plain": [
       "3"
      ]
     },
     "execution_count": 4,
     "metadata": {},
     "output_type": "execute_result"
    }
   ],
   "source": [
    "ser2 = pd.Series(data, index=['a','b','c','d','e'])\n",
    "print(ser2)\n",
    "ser2['c']"
   ]
  },
  {
   "cell_type": "markdown",
   "metadata": {},
   "source": [
    "Se pueden realizar operaciones matemáticas sobre la serie"
   ]
  },
  {
   "cell_type": "code",
   "execution_count": 5,
   "metadata": {},
   "outputs": [
    {
     "data": {
      "text/plain": [
       "a    False\n",
       "b    False\n",
       "c     True\n",
       "d     True\n",
       "e     True\n",
       "dtype: bool"
      ]
     },
     "execution_count": 5,
     "metadata": {},
     "output_type": "execute_result"
    }
   ],
   "source": [
    "ser2 > 2"
   ]
  },
  {
   "cell_type": "code",
   "execution_count": 6,
   "metadata": {},
   "outputs": [
    {
     "data": {
      "text/plain": [
       "c    3\n",
       "d    4\n",
       "e    5\n",
       "dtype: int64"
      ]
     },
     "execution_count": 6,
     "metadata": {},
     "output_type": "execute_result"
    }
   ],
   "source": [
    "ser2[ser2 > 2]"
   ]
  },
  {
   "cell_type": "code",
   "execution_count": 7,
   "metadata": {},
   "outputs": [
    {
     "data": {
      "text/plain": [
       "a     5\n",
       "b    10\n",
       "c    15\n",
       "d    20\n",
       "e    25\n",
       "dtype: int64"
      ]
     },
     "execution_count": 7,
     "metadata": {},
     "output_type": "execute_result"
    }
   ],
   "source": [
    "ser2*5"
   ]
  },
  {
   "cell_type": "markdown",
   "metadata": {},
   "source": [
    "Otra forma de indexación:"
   ]
  },
  {
   "cell_type": "code",
   "execution_count": 8,
   "metadata": {},
   "outputs": [
    {
     "name": "stdout",
     "output_type": "stream",
     "text": [
      "a    1\n",
      "b    2\n",
      "c    3\n",
      "d    4\n",
      "e    5\n",
      "dtype: int64\n"
     ]
    }
   ],
   "source": [
    "ser3 = pd.Series({'a':1,'b':2,'c':3,'d':4,'e':5})\n",
    "print(ser3)"
   ]
  },
  {
   "cell_type": "markdown",
   "metadata": {},
   "source": [
    "Los valores de indexación y datos pueden ser extráidos de la Serie"
   ]
  },
  {
   "cell_type": "code",
   "execution_count": 9,
   "metadata": {},
   "outputs": [
    {
     "data": {
      "text/plain": [
       "RangeIndex(start=0, stop=5, step=1)"
      ]
     },
     "execution_count": 9,
     "metadata": {},
     "output_type": "execute_result"
    }
   ],
   "source": [
    "ser.index"
   ]
  },
  {
   "cell_type": "code",
   "execution_count": 10,
   "metadata": {},
   "outputs": [
    {
     "data": {
      "text/plain": [
       "Index(['a', 'b', 'c', 'd', 'e'], dtype='object')"
      ]
     },
     "execution_count": 10,
     "metadata": {},
     "output_type": "execute_result"
    }
   ],
   "source": [
    "ser3.index"
   ]
  },
  {
   "cell_type": "code",
   "execution_count": 11,
   "metadata": {},
   "outputs": [
    {
     "data": {
      "text/plain": [
       "array([1, 2, 3, 4, 5], dtype=int64)"
      ]
     },
     "execution_count": 11,
     "metadata": {},
     "output_type": "execute_result"
    }
   ],
   "source": [
    "ser3.values"
   ]
  },
  {
   "cell_type": "markdown",
   "metadata": {},
   "source": [
    "Los objetos de la serie y la indexación pueden ser etiquetados:"
   ]
  },
  {
   "cell_type": "code",
   "execution_count": 12,
   "metadata": {},
   "outputs": [
    {
     "name": "stdout",
     "output_type": "stream",
     "text": [
      "letras\n",
      "a    1\n",
      "b    2\n",
      "c    3\n",
      "d    4\n",
      "e    5\n",
      "Name: datos, dtype: int64\n"
     ]
    }
   ],
   "source": [
    "ser3.name = 'datos'\n",
    "ser3.index.name = 'letras'\n",
    "print(ser3)"
   ]
  },
  {
   "cell_type": "markdown",
   "metadata": {},
   "source": [
    "## Dataframe\n",
    "\n",
    "El Dataframe o marco de datos en español no es otra cosa que una tabla. Cada columa en el Dataframe es una Serie, las filas consiste de elemenos dentro de las Series."
   ]
  },
  {
   "cell_type": "markdown",
   "metadata": {},
   "source": [
    "Contruir Dataframe manualmente:"
   ]
  },
  {
   "cell_type": "code",
   "execution_count": 13,
   "metadata": {},
   "outputs": [
    {
     "data": {
      "text/html": [
       "<div>\n",
       "<style scoped>\n",
       "    .dataframe tbody tr th:only-of-type {\n",
       "        vertical-align: middle;\n",
       "    }\n",
       "\n",
       "    .dataframe tbody tr th {\n",
       "        vertical-align: top;\n",
       "    }\n",
       "\n",
       "    .dataframe thead th {\n",
       "        text-align: right;\n",
       "    }\n",
       "</style>\n",
       "<table border=\"1\" class=\"dataframe\">\n",
       "  <thead>\n",
       "    <tr style=\"text-align: right;\">\n",
       "      <th></th>\n",
       "      <th>País</th>\n",
       "      <th>Población</th>\n",
       "      <th>Area</th>\n",
       "    </tr>\n",
       "  </thead>\n",
       "  <tbody>\n",
       "    <tr>\n",
       "      <th>0</th>\n",
       "      <td>Vietnam</td>\n",
       "      <td>95.54</td>\n",
       "      <td>331210</td>\n",
       "    </tr>\n",
       "    <tr>\n",
       "      <th>1</th>\n",
       "      <td>China</td>\n",
       "      <td>1386.00</td>\n",
       "      <td>9596961</td>\n",
       "    </tr>\n",
       "    <tr>\n",
       "      <th>2</th>\n",
       "      <td>Indonesia</td>\n",
       "      <td>264.00</td>\n",
       "      <td>1904569</td>\n",
       "    </tr>\n",
       "    <tr>\n",
       "      <th>3</th>\n",
       "      <td>Tailandia</td>\n",
       "      <td>69.04</td>\n",
       "      <td>51320</td>\n",
       "    </tr>\n",
       "  </tbody>\n",
       "</table>\n",
       "</div>"
      ],
      "text/plain": [
       "        País  Población     Area\n",
       "0    Vietnam      95.54   331210\n",
       "1      China    1386.00  9596961\n",
       "2  Indonesia     264.00  1904569\n",
       "3  Tailandia      69.04    51320"
      ]
     },
     "execution_count": 13,
     "metadata": {},
     "output_type": "execute_result"
    }
   ],
   "source": [
    "df = pd.DataFrame({\n",
    "...     'País': ['Vietnam', 'China', 'Indonesia', 'Tailandia'],\n",
    "...     'Población': [95.54, 1386, 264, 69.04],\n",
    "...     'Area': [331210, 9596961, 1904569, 51320]\n",
    "... })\n",
    "df"
   ]
  },
  {
   "cell_type": "markdown",
   "metadata": {},
   "source": [
    "Los Dataframe tiene 2 indexaciones, por columna y por fila, si no se crea la indexación por file se creará una numerácio de 0 a N-1 donde N es el número de los elementos."
   ]
  },
  {
   "cell_type": "code",
   "execution_count": 14,
   "metadata": {},
   "outputs": [
    {
     "data": {
      "text/plain": [
       "Index(['País', 'Población', 'Area'], dtype='object')"
      ]
     },
     "execution_count": 14,
     "metadata": {},
     "output_type": "execute_result"
    }
   ],
   "source": [
    "df.columns"
   ]
  },
  {
   "cell_type": "code",
   "execution_count": 15,
   "metadata": {},
   "outputs": [
    {
     "data": {
      "text/plain": [
       "RangeIndex(start=0, stop=4, step=1)"
      ]
     },
     "execution_count": 15,
     "metadata": {},
     "output_type": "execute_result"
    }
   ],
   "source": [
    "df.index "
   ]
  },
  {
   "cell_type": "markdown",
   "metadata": {},
   "source": [
    "Al igual que en las Series podemos cambiar lo valores de indexación."
   ]
  },
  {
   "cell_type": "code",
   "execution_count": 16,
   "metadata": {
    "scrolled": true
   },
   "outputs": [
    {
     "data": {
      "text/html": [
       "<div>\n",
       "<style scoped>\n",
       "    .dataframe tbody tr th:only-of-type {\n",
       "        vertical-align: middle;\n",
       "    }\n",
       "\n",
       "    .dataframe tbody tr th {\n",
       "        vertical-align: top;\n",
       "    }\n",
       "\n",
       "    .dataframe thead th {\n",
       "        text-align: right;\n",
       "    }\n",
       "</style>\n",
       "<table border=\"1\" class=\"dataframe\">\n",
       "  <thead>\n",
       "    <tr style=\"text-align: right;\">\n",
       "      <th></th>\n",
       "      <th>País</th>\n",
       "      <th>Población</th>\n",
       "      <th>Area</th>\n",
       "    </tr>\n",
       "    <tr>\n",
       "      <th>Código de País</th>\n",
       "      <th></th>\n",
       "      <th></th>\n",
       "      <th></th>\n",
       "    </tr>\n",
       "  </thead>\n",
       "  <tbody>\n",
       "    <tr>\n",
       "      <th>VN</th>\n",
       "      <td>Vietnam</td>\n",
       "      <td>95.54</td>\n",
       "      <td>331210</td>\n",
       "    </tr>\n",
       "    <tr>\n",
       "      <th>CN</th>\n",
       "      <td>China</td>\n",
       "      <td>1386.00</td>\n",
       "      <td>9596961</td>\n",
       "    </tr>\n",
       "    <tr>\n",
       "      <th>IN</th>\n",
       "      <td>Indonesia</td>\n",
       "      <td>264.00</td>\n",
       "      <td>1904569</td>\n",
       "    </tr>\n",
       "    <tr>\n",
       "      <th>TH</th>\n",
       "      <td>Tailandia</td>\n",
       "      <td>69.04</td>\n",
       "      <td>51320</td>\n",
       "    </tr>\n",
       "  </tbody>\n",
       "</table>\n",
       "</div>"
      ],
      "text/plain": [
       "                     País  Población     Area\n",
       "Código de País                               \n",
       "VN                Vietnam      95.54   331210\n",
       "CN                  China    1386.00  9596961\n",
       "IN              Indonesia     264.00  1904569\n",
       "TH              Tailandia      69.04    51320"
      ]
     },
     "execution_count": 16,
     "metadata": {},
     "output_type": "execute_result"
    }
   ],
   "source": [
    "df.index = ['VN','CN','IN','TH']\n",
    "df.index.name = 'Código de País'\n",
    "df"
   ]
  },
  {
   "cell_type": "markdown",
   "metadata": {},
   "source": [
    "El acceso a la indexación de las filas puede ser a través de los comandos loc para etiquetas o iloc para números"
   ]
  },
  {
   "cell_type": "code",
   "execution_count": 17,
   "metadata": {},
   "outputs": [
    {
     "data": {
      "text/plain": [
       "País           China\n",
       "Población       1386\n",
       "Area         9596961\n",
       "Name: CN, dtype: object"
      ]
     },
     "execution_count": 17,
     "metadata": {},
     "output_type": "execute_result"
    }
   ],
   "source": [
    "df.loc['CN']"
   ]
  },
  {
   "cell_type": "code",
   "execution_count": 18,
   "metadata": {},
   "outputs": [
    {
     "data": {
      "text/plain": [
       "País         Tailandia\n",
       "Población        69.04\n",
       "Area             51320\n",
       "Name: TH, dtype: object"
      ]
     },
     "execution_count": 18,
     "metadata": {},
     "output_type": "execute_result"
    }
   ],
   "source": [
    "df.iloc[3]"
   ]
  },
  {
   "cell_type": "markdown",
   "metadata": {},
   "source": [
    "La indexación de filas y columnas puede ser llevado a cabo de esta manera:"
   ]
  },
  {
   "cell_type": "code",
   "execution_count": 19,
   "metadata": {},
   "outputs": [
    {
     "data": {
      "text/plain": [
       "Código de País\n",
       "CN    1386.00\n",
       "TH      69.04\n",
       "Name: Población, dtype: float64"
      ]
     },
     "execution_count": 19,
     "metadata": {},
     "output_type": "execute_result"
    }
   ],
   "source": [
    "df.loc[['CN','TH'],'Población']"
   ]
  },
  {
   "cell_type": "markdown",
   "metadata": {},
   "source": [
    "Se puede realizar filtrado para obtener datos"
   ]
  },
  {
   "cell_type": "code",
   "execution_count": 20,
   "metadata": {},
   "outputs": [
    {
     "data": {
      "text/html": [
       "<div>\n",
       "<style scoped>\n",
       "    .dataframe tbody tr th:only-of-type {\n",
       "        vertical-align: middle;\n",
       "    }\n",
       "\n",
       "    .dataframe tbody tr th {\n",
       "        vertical-align: top;\n",
       "    }\n",
       "\n",
       "    .dataframe thead th {\n",
       "        text-align: right;\n",
       "    }\n",
       "</style>\n",
       "<table border=\"1\" class=\"dataframe\">\n",
       "  <thead>\n",
       "    <tr style=\"text-align: right;\">\n",
       "      <th></th>\n",
       "      <th>País</th>\n",
       "      <th>Población</th>\n",
       "      <th>Area</th>\n",
       "    </tr>\n",
       "    <tr>\n",
       "      <th>Código de País</th>\n",
       "      <th></th>\n",
       "      <th></th>\n",
       "      <th></th>\n",
       "    </tr>\n",
       "  </thead>\n",
       "  <tbody>\n",
       "    <tr>\n",
       "      <th>CN</th>\n",
       "      <td>China</td>\n",
       "      <td>1386.0</td>\n",
       "      <td>9596961</td>\n",
       "    </tr>\n",
       "    <tr>\n",
       "      <th>IN</th>\n",
       "      <td>Indonesia</td>\n",
       "      <td>264.0</td>\n",
       "      <td>1904569</td>\n",
       "    </tr>\n",
       "  </tbody>\n",
       "</table>\n",
       "</div>"
      ],
      "text/plain": [
       "                     País  Población     Area\n",
       "Código de País                               \n",
       "CN                  China     1386.0  9596961\n",
       "IN              Indonesia      264.0  1904569"
      ]
     },
     "execution_count": 20,
     "metadata": {},
     "output_type": "execute_result"
    }
   ],
   "source": [
    "df[df.Población > 100]"
   ]
  },
  {
   "cell_type": "markdown",
   "metadata": {},
   "source": [
    "Es posible agregar una columna al conjunto de datos existente"
   ]
  },
  {
   "cell_type": "code",
   "execution_count": 21,
   "metadata": {},
   "outputs": [
    {
     "data": {
      "text/html": [
       "<div>\n",
       "<style scoped>\n",
       "    .dataframe tbody tr th:only-of-type {\n",
       "        vertical-align: middle;\n",
       "    }\n",
       "\n",
       "    .dataframe tbody tr th {\n",
       "        vertical-align: top;\n",
       "    }\n",
       "\n",
       "    .dataframe thead th {\n",
       "        text-align: right;\n",
       "    }\n",
       "</style>\n",
       "<table border=\"1\" class=\"dataframe\">\n",
       "  <thead>\n",
       "    <tr style=\"text-align: right;\">\n",
       "      <th></th>\n",
       "      <th>País</th>\n",
       "      <th>Población</th>\n",
       "      <th>Area</th>\n",
       "      <th>densidad</th>\n",
       "    </tr>\n",
       "    <tr>\n",
       "      <th>Código de País</th>\n",
       "      <th></th>\n",
       "      <th></th>\n",
       "      <th></th>\n",
       "      <th></th>\n",
       "    </tr>\n",
       "  </thead>\n",
       "  <tbody>\n",
       "    <tr>\n",
       "      <th>VN</th>\n",
       "      <td>Vietnam</td>\n",
       "      <td>95.54</td>\n",
       "      <td>331210</td>\n",
       "      <td>288.457474</td>\n",
       "    </tr>\n",
       "    <tr>\n",
       "      <th>CN</th>\n",
       "      <td>China</td>\n",
       "      <td>1386.00</td>\n",
       "      <td>9596961</td>\n",
       "      <td>144.420718</td>\n",
       "    </tr>\n",
       "    <tr>\n",
       "      <th>IN</th>\n",
       "      <td>Indonesia</td>\n",
       "      <td>264.00</td>\n",
       "      <td>1904569</td>\n",
       "      <td>138.614038</td>\n",
       "    </tr>\n",
       "    <tr>\n",
       "      <th>TH</th>\n",
       "      <td>Tailandia</td>\n",
       "      <td>69.04</td>\n",
       "      <td>51320</td>\n",
       "      <td>1345.284489</td>\n",
       "    </tr>\n",
       "  </tbody>\n",
       "</table>\n",
       "</div>"
      ],
      "text/plain": [
       "                     País  Población     Area     densidad\n",
       "Código de País                                            \n",
       "VN                Vietnam      95.54   331210   288.457474\n",
       "CN                  China    1386.00  9596961   144.420718\n",
       "IN              Indonesia     264.00  1904569   138.614038\n",
       "TH              Tailandia      69.04    51320  1345.284489"
      ]
     },
     "execution_count": 21,
     "metadata": {},
     "output_type": "execute_result"
    }
   ],
   "source": [
    "df['densidad'] = df['Población']/df['Area'] * 1000000\n",
    "df"
   ]
  },
  {
   "cell_type": "markdown",
   "metadata": {},
   "source": [
    "Las columnas pueden ser eliminadas mediante el comando drop()"
   ]
  },
  {
   "cell_type": "code",
   "execution_count": 22,
   "metadata": {},
   "outputs": [
    {
     "data": {
      "text/html": [
       "<div>\n",
       "<style scoped>\n",
       "    .dataframe tbody tr th:only-of-type {\n",
       "        vertical-align: middle;\n",
       "    }\n",
       "\n",
       "    .dataframe tbody tr th {\n",
       "        vertical-align: top;\n",
       "    }\n",
       "\n",
       "    .dataframe thead th {\n",
       "        text-align: right;\n",
       "    }\n",
       "</style>\n",
       "<table border=\"1\" class=\"dataframe\">\n",
       "  <thead>\n",
       "    <tr style=\"text-align: right;\">\n",
       "      <th></th>\n",
       "      <th>País</th>\n",
       "      <th>Población</th>\n",
       "      <th>Area</th>\n",
       "    </tr>\n",
       "    <tr>\n",
       "      <th>Código de País</th>\n",
       "      <th></th>\n",
       "      <th></th>\n",
       "      <th></th>\n",
       "    </tr>\n",
       "  </thead>\n",
       "  <tbody>\n",
       "    <tr>\n",
       "      <th>VN</th>\n",
       "      <td>Vietnam</td>\n",
       "      <td>95.54</td>\n",
       "      <td>331210</td>\n",
       "    </tr>\n",
       "    <tr>\n",
       "      <th>CN</th>\n",
       "      <td>China</td>\n",
       "      <td>1386.00</td>\n",
       "      <td>9596961</td>\n",
       "    </tr>\n",
       "    <tr>\n",
       "      <th>IN</th>\n",
       "      <td>Indonesia</td>\n",
       "      <td>264.00</td>\n",
       "      <td>1904569</td>\n",
       "    </tr>\n",
       "    <tr>\n",
       "      <th>TH</th>\n",
       "      <td>Tailandia</td>\n",
       "      <td>69.04</td>\n",
       "      <td>51320</td>\n",
       "    </tr>\n",
       "  </tbody>\n",
       "</table>\n",
       "</div>"
      ],
      "text/plain": [
       "                     País  Población     Area\n",
       "Código de País                               \n",
       "VN                Vietnam      95.54   331210\n",
       "CN                  China    1386.00  9596961\n",
       "IN              Indonesia     264.00  1904569\n",
       "TH              Tailandia      69.04    51320"
      ]
     },
     "execution_count": 22,
     "metadata": {},
     "output_type": "execute_result"
    }
   ],
   "source": [
    "df.drop(['densidad'], axis='columns')"
   ]
  },
  {
   "cell_type": "markdown",
   "metadata": {},
   "source": [
    "Podemos accesar los datos el inicio o a final del Dataframe por medio de los comandos head y til respectivamente."
   ]
  },
  {
   "cell_type": "code",
   "execution_count": 23,
   "metadata": {},
   "outputs": [
    {
     "name": "stdout",
     "output_type": "stream",
     "text": [
      "                     País  Población     Area    densidad\n",
      "Código de País                                           \n",
      "VN                Vietnam      95.54   331210  288.457474\n",
      "CN                  China    1386.00  9596961  144.420718\n",
      "IN              Indonesia     264.00  1904569  138.614038\n"
     ]
    }
   ],
   "source": [
    "print(df.head(3))"
   ]
  },
  {
   "cell_type": "code",
   "execution_count": 24,
   "metadata": {},
   "outputs": [
    {
     "name": "stdout",
     "output_type": "stream",
     "text": [
      "                     País  Población     Area     densidad\n",
      "Código de País                                            \n",
      "IN              Indonesia     264.00  1904569   138.614038\n",
      "TH              Tailandia      69.04    51320  1345.284489\n"
     ]
    }
   ],
   "source": [
    "print(df.tail(2))"
   ]
  },
  {
   "cell_type": "markdown",
   "metadata": {},
   "source": [
    "Con info() obtenemos información del dataframe"
   ]
  },
  {
   "cell_type": "code",
   "execution_count": 25,
   "metadata": {},
   "outputs": [
    {
     "name": "stdout",
     "output_type": "stream",
     "text": [
      "<class 'pandas.core.frame.DataFrame'>\n",
      "Index: 4 entries, VN to TH\n",
      "Data columns (total 4 columns):\n",
      "País         4 non-null object\n",
      "Población    4 non-null float64\n",
      "Area         4 non-null int64\n",
      "densidad     4 non-null float64\n",
      "dtypes: float64(2), int64(1), object(1)\n",
      "memory usage: 320.0+ bytes\n"
     ]
    }
   ],
   "source": [
    "df.info()"
   ]
  },
  {
   "cell_type": "markdown",
   "metadata": {},
   "source": [
    "Con shape podemos obtener la cantidad de files y columans del Dataframe"
   ]
  },
  {
   "cell_type": "code",
   "execution_count": 26,
   "metadata": {},
   "outputs": [
    {
     "data": {
      "text/plain": [
       "(4, 4)"
      ]
     },
     "execution_count": 26,
     "metadata": {},
     "output_type": "execute_result"
    }
   ],
   "source": [
    "df.shape"
   ]
  },
  {
   "cell_type": "markdown",
   "metadata": {},
   "source": [
    "Con Count obtenemos la cantidad de datos válidos por columna. Esto quiere decir que en caso de exister valores Null no se contabilizan."
   ]
  },
  {
   "cell_type": "code",
   "execution_count": 27,
   "metadata": {},
   "outputs": [
    {
     "data": {
      "text/plain": [
       "País         4\n",
       "Población    4\n",
       "Area         4\n",
       "densidad     4\n",
       "dtype: int64"
      ]
     },
     "execution_count": 27,
     "metadata": {},
     "output_type": "execute_result"
    }
   ],
   "source": [
    "df.count()"
   ]
  },
  {
   "cell_type": "markdown",
   "metadata": {},
   "source": [
    "Con sum() se obtiene el valor total de los elementos de cada columna."
   ]
  },
  {
   "cell_type": "code",
   "execution_count": 28,
   "metadata": {},
   "outputs": [
    {
     "data": {
      "text/plain": [
       "País         VietnamChinaIndonesiaTailandia\n",
       "Población                           1814.58\n",
       "Area                               11884060\n",
       "densidad                            1916.78\n",
       "dtype: object"
      ]
     },
     "execution_count": 28,
     "metadata": {},
     "output_type": "execute_result"
    }
   ],
   "source": [
    "df.sum()"
   ]
  },
  {
   "cell_type": "markdown",
   "metadata": {},
   "source": [
    "También podemos realizar la función sólamente ciertas columnas deseadas"
   ]
  },
  {
   "cell_type": "code",
   "execution_count": 29,
   "metadata": {},
   "outputs": [
    {
     "data": {
      "text/plain": [
       "1814.58"
      ]
     },
     "execution_count": 29,
     "metadata": {},
     "output_type": "execute_result"
    }
   ],
   "source": [
    "df['Población'].sum()"
   ]
  },
  {
   "cell_type": "markdown",
   "metadata": {},
   "source": [
    "Otra función útil es describe, qu enos permite obtener la media, desviacón estándar, mínimo, máximo y pércintiles del conjunto de datos."
   ]
  },
  {
   "cell_type": "code",
   "execution_count": 30,
   "metadata": {},
   "outputs": [
    {
     "data": {
      "text/html": [
       "<div>\n",
       "<style scoped>\n",
       "    .dataframe tbody tr th:only-of-type {\n",
       "        vertical-align: middle;\n",
       "    }\n",
       "\n",
       "    .dataframe tbody tr th {\n",
       "        vertical-align: top;\n",
       "    }\n",
       "\n",
       "    .dataframe thead th {\n",
       "        text-align: right;\n",
       "    }\n",
       "</style>\n",
       "<table border=\"1\" class=\"dataframe\">\n",
       "  <thead>\n",
       "    <tr style=\"text-align: right;\">\n",
       "      <th></th>\n",
       "      <th>Población</th>\n",
       "      <th>Area</th>\n",
       "      <th>densidad</th>\n",
       "    </tr>\n",
       "  </thead>\n",
       "  <tbody>\n",
       "    <tr>\n",
       "      <th>count</th>\n",
       "      <td>4.000000</td>\n",
       "      <td>4.000000e+00</td>\n",
       "      <td>4.000000</td>\n",
       "    </tr>\n",
       "    <tr>\n",
       "      <th>mean</th>\n",
       "      <td>453.645000</td>\n",
       "      <td>2.971015e+06</td>\n",
       "      <td>479.194180</td>\n",
       "    </tr>\n",
       "    <tr>\n",
       "      <th>std</th>\n",
       "      <td>627.537853</td>\n",
       "      <td>4.491980e+06</td>\n",
       "      <td>581.538482</td>\n",
       "    </tr>\n",
       "    <tr>\n",
       "      <th>min</th>\n",
       "      <td>69.040000</td>\n",
       "      <td>5.132000e+04</td>\n",
       "      <td>138.614038</td>\n",
       "    </tr>\n",
       "    <tr>\n",
       "      <th>25%</th>\n",
       "      <td>88.915000</td>\n",
       "      <td>2.612375e+05</td>\n",
       "      <td>142.969048</td>\n",
       "    </tr>\n",
       "    <tr>\n",
       "      <th>50%</th>\n",
       "      <td>179.770000</td>\n",
       "      <td>1.117890e+06</td>\n",
       "      <td>216.439096</td>\n",
       "    </tr>\n",
       "    <tr>\n",
       "      <th>75%</th>\n",
       "      <td>544.500000</td>\n",
       "      <td>3.827667e+06</td>\n",
       "      <td>552.664228</td>\n",
       "    </tr>\n",
       "    <tr>\n",
       "      <th>max</th>\n",
       "      <td>1386.000000</td>\n",
       "      <td>9.596961e+06</td>\n",
       "      <td>1345.284489</td>\n",
       "    </tr>\n",
       "  </tbody>\n",
       "</table>\n",
       "</div>"
      ],
      "text/plain": [
       "         Población          Area     densidad\n",
       "count     4.000000  4.000000e+00     4.000000\n",
       "mean    453.645000  2.971015e+06   479.194180\n",
       "std     627.537853  4.491980e+06   581.538482\n",
       "min      69.040000  5.132000e+04   138.614038\n",
       "25%      88.915000  2.612375e+05   142.969048\n",
       "50%     179.770000  1.117890e+06   216.439096\n",
       "75%     544.500000  3.827667e+06   552.664228\n",
       "max    1386.000000  9.596961e+06  1345.284489"
      ]
     },
     "execution_count": 30,
     "metadata": {},
     "output_type": "execute_result"
    }
   ],
   "source": [
    "df.describe()"
   ]
  },
  {
   "cell_type": "markdown",
   "metadata": {},
   "source": [
    "La función corr() nos da la correlación entre los datos."
   ]
  },
  {
   "cell_type": "code",
   "execution_count": 31,
   "metadata": {},
   "outputs": [
    {
     "data": {
      "text/html": [
       "<div>\n",
       "<style scoped>\n",
       "    .dataframe tbody tr th:only-of-type {\n",
       "        vertical-align: middle;\n",
       "    }\n",
       "\n",
       "    .dataframe tbody tr th {\n",
       "        vertical-align: top;\n",
       "    }\n",
       "\n",
       "    .dataframe thead th {\n",
       "        text-align: right;\n",
       "    }\n",
       "</style>\n",
       "<table border=\"1\" class=\"dataframe\">\n",
       "  <thead>\n",
       "    <tr style=\"text-align: right;\">\n",
       "      <th></th>\n",
       "      <th>Población</th>\n",
       "      <th>Area</th>\n",
       "      <th>densidad</th>\n",
       "    </tr>\n",
       "  </thead>\n",
       "  <tbody>\n",
       "    <tr>\n",
       "      <th>Población</th>\n",
       "      <td>1.000000</td>\n",
       "      <td>0.999004</td>\n",
       "      <td>-0.467968</td>\n",
       "    </tr>\n",
       "    <tr>\n",
       "      <th>Area</th>\n",
       "      <td>0.999004</td>\n",
       "      <td>1.000000</td>\n",
       "      <td>-0.495126</td>\n",
       "    </tr>\n",
       "    <tr>\n",
       "      <th>densidad</th>\n",
       "      <td>-0.467968</td>\n",
       "      <td>-0.495126</td>\n",
       "      <td>1.000000</td>\n",
       "    </tr>\n",
       "  </tbody>\n",
       "</table>\n",
       "</div>"
      ],
      "text/plain": [
       "           Población      Area  densidad\n",
       "Población   1.000000  0.999004 -0.467968\n",
       "Area        0.999004  1.000000 -0.495126\n",
       "densidad   -0.467968 -0.495126  1.000000"
      ]
     },
     "execution_count": 31,
     "metadata": {},
     "output_type": "execute_result"
    }
   ],
   "source": [
    "df.corr()"
   ]
  },
  {
   "cell_type": "markdown",
   "metadata": {},
   "source": [
    "Se puede realizar tablas cruzadas entre dos o más columnas."
   ]
  },
  {
   "cell_type": "code",
   "execution_count": 32,
   "metadata": {},
   "outputs": [
    {
     "data": {
      "text/html": [
       "<div>\n",
       "<style scoped>\n",
       "    .dataframe tbody tr th:only-of-type {\n",
       "        vertical-align: middle;\n",
       "    }\n",
       "\n",
       "    .dataframe tbody tr th {\n",
       "        vertical-align: top;\n",
       "    }\n",
       "\n",
       "    .dataframe thead th {\n",
       "        text-align: right;\n",
       "    }\n",
       "</style>\n",
       "<table border=\"1\" class=\"dataframe\">\n",
       "  <thead>\n",
       "    <tr style=\"text-align: right;\">\n",
       "      <th>Area</th>\n",
       "      <th>51320</th>\n",
       "      <th>331210</th>\n",
       "      <th>1904569</th>\n",
       "      <th>9596961</th>\n",
       "    </tr>\n",
       "    <tr>\n",
       "      <th>Población</th>\n",
       "      <th></th>\n",
       "      <th></th>\n",
       "      <th></th>\n",
       "      <th></th>\n",
       "    </tr>\n",
       "  </thead>\n",
       "  <tbody>\n",
       "    <tr>\n",
       "      <th>69.04</th>\n",
       "      <td>1</td>\n",
       "      <td>0</td>\n",
       "      <td>0</td>\n",
       "      <td>0</td>\n",
       "    </tr>\n",
       "    <tr>\n",
       "      <th>95.54</th>\n",
       "      <td>0</td>\n",
       "      <td>1</td>\n",
       "      <td>0</td>\n",
       "      <td>0</td>\n",
       "    </tr>\n",
       "    <tr>\n",
       "      <th>264.00</th>\n",
       "      <td>0</td>\n",
       "      <td>0</td>\n",
       "      <td>1</td>\n",
       "      <td>0</td>\n",
       "    </tr>\n",
       "    <tr>\n",
       "      <th>1386.00</th>\n",
       "      <td>0</td>\n",
       "      <td>0</td>\n",
       "      <td>0</td>\n",
       "      <td>1</td>\n",
       "    </tr>\n",
       "  </tbody>\n",
       "</table>\n",
       "</div>"
      ],
      "text/plain": [
       "Area       51320    331210   1904569  9596961\n",
       "Población                                    \n",
       "69.04            1        0        0        0\n",
       "95.54            0        1        0        0\n",
       "264.00           0        0        1        0\n",
       "1386.00          0        0        0        1"
      ]
     },
     "execution_count": 32,
     "metadata": {},
     "output_type": "execute_result"
    }
   ],
   "source": [
    "pd.crosstab(df.Población, df.Area)"
   ]
  },
  {
   "cell_type": "markdown",
   "metadata": {},
   "source": [
    "Es posible realizar ordenamiento ascendente, descendente y por varias columnnas"
   ]
  },
  {
   "cell_type": "code",
   "execution_count": 33,
   "metadata": {},
   "outputs": [
    {
     "data": {
      "text/html": [
       "<div>\n",
       "<style scoped>\n",
       "    .dataframe tbody tr th:only-of-type {\n",
       "        vertical-align: middle;\n",
       "    }\n",
       "\n",
       "    .dataframe tbody tr th {\n",
       "        vertical-align: top;\n",
       "    }\n",
       "\n",
       "    .dataframe thead th {\n",
       "        text-align: right;\n",
       "    }\n",
       "</style>\n",
       "<table border=\"1\" class=\"dataframe\">\n",
       "  <thead>\n",
       "    <tr style=\"text-align: right;\">\n",
       "      <th></th>\n",
       "      <th>País</th>\n",
       "      <th>Población</th>\n",
       "      <th>Area</th>\n",
       "      <th>densidad</th>\n",
       "    </tr>\n",
       "    <tr>\n",
       "      <th>Código de País</th>\n",
       "      <th></th>\n",
       "      <th></th>\n",
       "      <th></th>\n",
       "      <th></th>\n",
       "    </tr>\n",
       "  </thead>\n",
       "  <tbody>\n",
       "    <tr>\n",
       "      <th>TH</th>\n",
       "      <td>Tailandia</td>\n",
       "      <td>69.04</td>\n",
       "      <td>51320</td>\n",
       "      <td>1345.284489</td>\n",
       "    </tr>\n",
       "    <tr>\n",
       "      <th>VN</th>\n",
       "      <td>Vietnam</td>\n",
       "      <td>95.54</td>\n",
       "      <td>331210</td>\n",
       "      <td>288.457474</td>\n",
       "    </tr>\n",
       "    <tr>\n",
       "      <th>IN</th>\n",
       "      <td>Indonesia</td>\n",
       "      <td>264.00</td>\n",
       "      <td>1904569</td>\n",
       "      <td>138.614038</td>\n",
       "    </tr>\n",
       "    <tr>\n",
       "      <th>CN</th>\n",
       "      <td>China</td>\n",
       "      <td>1386.00</td>\n",
       "      <td>9596961</td>\n",
       "      <td>144.420718</td>\n",
       "    </tr>\n",
       "  </tbody>\n",
       "</table>\n",
       "</div>"
      ],
      "text/plain": [
       "                     País  Población     Area     densidad\n",
       "Código de País                                            \n",
       "TH              Tailandia      69.04    51320  1345.284489\n",
       "VN                Vietnam      95.54   331210   288.457474\n",
       "IN              Indonesia     264.00  1904569   138.614038\n",
       "CN                  China    1386.00  9596961   144.420718"
      ]
     },
     "execution_count": 33,
     "metadata": {},
     "output_type": "execute_result"
    }
   ],
   "source": [
    "df.sort_values(by=['Población'])"
   ]
  },
  {
   "cell_type": "code",
   "execution_count": 34,
   "metadata": {},
   "outputs": [
    {
     "data": {
      "text/html": [
       "<div>\n",
       "<style scoped>\n",
       "    .dataframe tbody tr th:only-of-type {\n",
       "        vertical-align: middle;\n",
       "    }\n",
       "\n",
       "    .dataframe tbody tr th {\n",
       "        vertical-align: top;\n",
       "    }\n",
       "\n",
       "    .dataframe thead th {\n",
       "        text-align: right;\n",
       "    }\n",
       "</style>\n",
       "<table border=\"1\" class=\"dataframe\">\n",
       "  <thead>\n",
       "    <tr style=\"text-align: right;\">\n",
       "      <th></th>\n",
       "      <th>País</th>\n",
       "      <th>Población</th>\n",
       "      <th>Area</th>\n",
       "      <th>densidad</th>\n",
       "    </tr>\n",
       "    <tr>\n",
       "      <th>Código de País</th>\n",
       "      <th></th>\n",
       "      <th></th>\n",
       "      <th></th>\n",
       "      <th></th>\n",
       "    </tr>\n",
       "  </thead>\n",
       "  <tbody>\n",
       "    <tr>\n",
       "      <th>CN</th>\n",
       "      <td>China</td>\n",
       "      <td>1386.00</td>\n",
       "      <td>9596961</td>\n",
       "      <td>144.420718</td>\n",
       "    </tr>\n",
       "    <tr>\n",
       "      <th>IN</th>\n",
       "      <td>Indonesia</td>\n",
       "      <td>264.00</td>\n",
       "      <td>1904569</td>\n",
       "      <td>138.614038</td>\n",
       "    </tr>\n",
       "    <tr>\n",
       "      <th>VN</th>\n",
       "      <td>Vietnam</td>\n",
       "      <td>95.54</td>\n",
       "      <td>331210</td>\n",
       "      <td>288.457474</td>\n",
       "    </tr>\n",
       "    <tr>\n",
       "      <th>TH</th>\n",
       "      <td>Tailandia</td>\n",
       "      <td>69.04</td>\n",
       "      <td>51320</td>\n",
       "      <td>1345.284489</td>\n",
       "    </tr>\n",
       "  </tbody>\n",
       "</table>\n",
       "</div>"
      ],
      "text/plain": [
       "                     País  Población     Area     densidad\n",
       "Código de País                                            \n",
       "CN                  China    1386.00  9596961   144.420718\n",
       "IN              Indonesia     264.00  1904569   138.614038\n",
       "VN                Vietnam      95.54   331210   288.457474\n",
       "TH              Tailandia      69.04    51320  1345.284489"
      ]
     },
     "execution_count": 34,
     "metadata": {},
     "output_type": "execute_result"
    }
   ],
   "source": [
    "df.sort_values(by=['Población'], ascending=False)"
   ]
  },
  {
   "cell_type": "code",
   "execution_count": 35,
   "metadata": {},
   "outputs": [
    {
     "data": {
      "text/html": [
       "<div>\n",
       "<style scoped>\n",
       "    .dataframe tbody tr th:only-of-type {\n",
       "        vertical-align: middle;\n",
       "    }\n",
       "\n",
       "    .dataframe tbody tr th {\n",
       "        vertical-align: top;\n",
       "    }\n",
       "\n",
       "    .dataframe thead th {\n",
       "        text-align: right;\n",
       "    }\n",
       "</style>\n",
       "<table border=\"1\" class=\"dataframe\">\n",
       "  <thead>\n",
       "    <tr style=\"text-align: right;\">\n",
       "      <th></th>\n",
       "      <th>País</th>\n",
       "      <th>Población</th>\n",
       "      <th>Area</th>\n",
       "      <th>densidad</th>\n",
       "    </tr>\n",
       "    <tr>\n",
       "      <th>Código de País</th>\n",
       "      <th></th>\n",
       "      <th></th>\n",
       "      <th></th>\n",
       "      <th></th>\n",
       "    </tr>\n",
       "  </thead>\n",
       "  <tbody>\n",
       "    <tr>\n",
       "      <th>TH</th>\n",
       "      <td>Tailandia</td>\n",
       "      <td>69.04</td>\n",
       "      <td>51320</td>\n",
       "      <td>1345.284489</td>\n",
       "    </tr>\n",
       "    <tr>\n",
       "      <th>VN</th>\n",
       "      <td>Vietnam</td>\n",
       "      <td>95.54</td>\n",
       "      <td>331210</td>\n",
       "      <td>288.457474</td>\n",
       "    </tr>\n",
       "    <tr>\n",
       "      <th>IN</th>\n",
       "      <td>Indonesia</td>\n",
       "      <td>264.00</td>\n",
       "      <td>1904569</td>\n",
       "      <td>138.614038</td>\n",
       "    </tr>\n",
       "    <tr>\n",
       "      <th>CN</th>\n",
       "      <td>China</td>\n",
       "      <td>1386.00</td>\n",
       "      <td>9596961</td>\n",
       "      <td>144.420718</td>\n",
       "    </tr>\n",
       "  </tbody>\n",
       "</table>\n",
       "</div>"
      ],
      "text/plain": [
       "                     País  Población     Area     densidad\n",
       "Código de País                                            \n",
       "TH              Tailandia      69.04    51320  1345.284489\n",
       "VN                Vietnam      95.54   331210   288.457474\n",
       "IN              Indonesia     264.00  1904569   138.614038\n",
       "CN                  China    1386.00  9596961   144.420718"
      ]
     },
     "execution_count": 35,
     "metadata": {},
     "output_type": "execute_result"
    }
   ],
   "source": [
    "df.sort_values(by=['Población','Area'])"
   ]
  },
  {
   "cell_type": "markdown",
   "metadata": {},
   "source": [
    "Con la función concat() se realiza la concatenación de dos o más dataframes."
   ]
  },
  {
   "cell_type": "code",
   "execution_count": 36,
   "metadata": {},
   "outputs": [],
   "source": [
    " df1 = pd.DataFrame({\n",
    "...     'País': ['Vietnam', 'China', 'Indonesia', 'Tailandia'],\n",
    "...     'Población': [95.54, 1386, 264, 69.04],\n",
    "...     'Area': [331210, 9596961, 1904569, 51320]\n",
    "... }, index = ['VN','CN','IN','TH']) \n",
    "    \n",
    "df2 = pd.DataFrame({\n",
    "...     'País': ['Kazakhstan', 'Russia', 'Belarus', 'Ukraine','Tailandia'],\n",
    "...     'Población': [17.04, 143.5, 9.5, 45.5, 69.04],\n",
    "...     'Area': [2724902, 17125191, 207600, 603628, 51320]\n",
    "... }, index=['KZ', 'RU', 'BY', 'UA', 'TH'])\n"
   ]
  },
  {
   "cell_type": "code",
   "execution_count": 37,
   "metadata": {},
   "outputs": [
    {
     "data": {
      "text/html": [
       "<div>\n",
       "<style scoped>\n",
       "    .dataframe tbody tr th:only-of-type {\n",
       "        vertical-align: middle;\n",
       "    }\n",
       "\n",
       "    .dataframe tbody tr th {\n",
       "        vertical-align: top;\n",
       "    }\n",
       "\n",
       "    .dataframe thead th {\n",
       "        text-align: right;\n",
       "    }\n",
       "</style>\n",
       "<table border=\"1\" class=\"dataframe\">\n",
       "  <thead>\n",
       "    <tr style=\"text-align: right;\">\n",
       "      <th></th>\n",
       "      <th>País</th>\n",
       "      <th>Población</th>\n",
       "      <th>Area</th>\n",
       "    </tr>\n",
       "  </thead>\n",
       "  <tbody>\n",
       "    <tr>\n",
       "      <th>VN</th>\n",
       "      <td>Vietnam</td>\n",
       "      <td>95.54</td>\n",
       "      <td>331210</td>\n",
       "    </tr>\n",
       "    <tr>\n",
       "      <th>CN</th>\n",
       "      <td>China</td>\n",
       "      <td>1386.00</td>\n",
       "      <td>9596961</td>\n",
       "    </tr>\n",
       "    <tr>\n",
       "      <th>IN</th>\n",
       "      <td>Indonesia</td>\n",
       "      <td>264.00</td>\n",
       "      <td>1904569</td>\n",
       "    </tr>\n",
       "    <tr>\n",
       "      <th>TH</th>\n",
       "      <td>Tailandia</td>\n",
       "      <td>69.04</td>\n",
       "      <td>51320</td>\n",
       "    </tr>\n",
       "    <tr>\n",
       "      <th>KZ</th>\n",
       "      <td>Kazakhstan</td>\n",
       "      <td>17.04</td>\n",
       "      <td>2724902</td>\n",
       "    </tr>\n",
       "    <tr>\n",
       "      <th>RU</th>\n",
       "      <td>Russia</td>\n",
       "      <td>143.50</td>\n",
       "      <td>17125191</td>\n",
       "    </tr>\n",
       "    <tr>\n",
       "      <th>BY</th>\n",
       "      <td>Belarus</td>\n",
       "      <td>9.50</td>\n",
       "      <td>207600</td>\n",
       "    </tr>\n",
       "    <tr>\n",
       "      <th>UA</th>\n",
       "      <td>Ukraine</td>\n",
       "      <td>45.50</td>\n",
       "      <td>603628</td>\n",
       "    </tr>\n",
       "    <tr>\n",
       "      <th>TH</th>\n",
       "      <td>Tailandia</td>\n",
       "      <td>69.04</td>\n",
       "      <td>51320</td>\n",
       "    </tr>\n",
       "  </tbody>\n",
       "</table>\n",
       "</div>"
      ],
      "text/plain": [
       "          País  Población      Area\n",
       "VN     Vietnam      95.54    331210\n",
       "CN       China    1386.00   9596961\n",
       "IN   Indonesia     264.00   1904569\n",
       "TH   Tailandia      69.04     51320\n",
       "KZ  Kazakhstan      17.04   2724902\n",
       "RU      Russia     143.50  17125191\n",
       "BY     Belarus       9.50    207600\n",
       "UA     Ukraine      45.50    603628\n",
       "TH   Tailandia      69.04     51320"
      ]
     },
     "execution_count": 37,
     "metadata": {},
     "output_type": "execute_result"
    }
   ],
   "source": [
    "df_concat = pd.concat([df1,df2])\n",
    "df_concat"
   ]
  },
  {
   "cell_type": "markdown",
   "metadata": {},
   "source": [
    "Los duplicados pueden ser eliminados mediante el comando drop_duplicates()"
   ]
  },
  {
   "cell_type": "code",
   "execution_count": 38,
   "metadata": {},
   "outputs": [
    {
     "data": {
      "text/html": [
       "<div>\n",
       "<style scoped>\n",
       "    .dataframe tbody tr th:only-of-type {\n",
       "        vertical-align: middle;\n",
       "    }\n",
       "\n",
       "    .dataframe tbody tr th {\n",
       "        vertical-align: top;\n",
       "    }\n",
       "\n",
       "    .dataframe thead th {\n",
       "        text-align: right;\n",
       "    }\n",
       "</style>\n",
       "<table border=\"1\" class=\"dataframe\">\n",
       "  <thead>\n",
       "    <tr style=\"text-align: right;\">\n",
       "      <th></th>\n",
       "      <th>País</th>\n",
       "      <th>Población</th>\n",
       "      <th>Area</th>\n",
       "    </tr>\n",
       "  </thead>\n",
       "  <tbody>\n",
       "    <tr>\n",
       "      <th>VN</th>\n",
       "      <td>Vietnam</td>\n",
       "      <td>95.54</td>\n",
       "      <td>331210</td>\n",
       "    </tr>\n",
       "    <tr>\n",
       "      <th>CN</th>\n",
       "      <td>China</td>\n",
       "      <td>1386.00</td>\n",
       "      <td>9596961</td>\n",
       "    </tr>\n",
       "    <tr>\n",
       "      <th>IN</th>\n",
       "      <td>Indonesia</td>\n",
       "      <td>264.00</td>\n",
       "      <td>1904569</td>\n",
       "    </tr>\n",
       "    <tr>\n",
       "      <th>TH</th>\n",
       "      <td>Tailandia</td>\n",
       "      <td>69.04</td>\n",
       "      <td>51320</td>\n",
       "    </tr>\n",
       "    <tr>\n",
       "      <th>KZ</th>\n",
       "      <td>Kazakhstan</td>\n",
       "      <td>17.04</td>\n",
       "      <td>2724902</td>\n",
       "    </tr>\n",
       "    <tr>\n",
       "      <th>RU</th>\n",
       "      <td>Russia</td>\n",
       "      <td>143.50</td>\n",
       "      <td>17125191</td>\n",
       "    </tr>\n",
       "    <tr>\n",
       "      <th>BY</th>\n",
       "      <td>Belarus</td>\n",
       "      <td>9.50</td>\n",
       "      <td>207600</td>\n",
       "    </tr>\n",
       "    <tr>\n",
       "      <th>UA</th>\n",
       "      <td>Ukraine</td>\n",
       "      <td>45.50</td>\n",
       "      <td>603628</td>\n",
       "    </tr>\n",
       "  </tbody>\n",
       "</table>\n",
       "</div>"
      ],
      "text/plain": [
       "          País  Población      Area\n",
       "VN     Vietnam      95.54    331210\n",
       "CN       China    1386.00   9596961\n",
       "IN   Indonesia     264.00   1904569\n",
       "TH   Tailandia      69.04     51320\n",
       "KZ  Kazakhstan      17.04   2724902\n",
       "RU      Russia     143.50  17125191\n",
       "BY     Belarus       9.50    207600\n",
       "UA     Ukraine      45.50    603628"
      ]
     },
     "execution_count": 38,
     "metadata": {},
     "output_type": "execute_result"
    }
   ],
   "source": [
    "df_concat.drop_duplicates('País')"
   ]
  },
  {
   "cell_type": "markdown",
   "metadata": {},
   "source": [
    "## PARTE II: ANALISIS SET DE DATOS"
   ]
  },
  {
   "cell_type": "markdown",
   "metadata": {},
   "source": [
    "Importamos el dataset en formato csv tomando de https://www.kaggle.com/ mediante el comando pd.read_csv. Para otros formatos de set de datos existen otros comandos que no fueron incluídos en este tutorial."
   ]
  },
  {
   "cell_type": "code",
   "execution_count": 39,
   "metadata": {},
   "outputs": [],
   "source": [
    "pk = pd.read_csv('pokemon.csv')"
   ]
  },
  {
   "cell_type": "markdown",
   "metadata": {},
   "source": [
    "Ahora usamos los comandos aprendidos anteriormente para obtener información del set de datos."
   ]
  },
  {
   "cell_type": "code",
   "execution_count": 40,
   "metadata": {},
   "outputs": [
    {
     "name": "stdout",
     "output_type": "stream",
     "text": [
      "<class 'pandas.core.frame.DataFrame'>\n",
      "RangeIndex: 721 entries, 0 to 720\n",
      "Data columns (total 23 columns):\n",
      "Number              721 non-null int64\n",
      "Name                721 non-null object\n",
      "Type_1              721 non-null object\n",
      "Type_2              350 non-null object\n",
      "Total               721 non-null int64\n",
      "HP                  721 non-null int64\n",
      "Attack              721 non-null int64\n",
      "Defense             721 non-null int64\n",
      "Sp_Atk              721 non-null int64\n",
      "Sp_Def              721 non-null int64\n",
      "Speed               721 non-null int64\n",
      "Generation          721 non-null int64\n",
      "isLegendary         721 non-null bool\n",
      "Color               721 non-null object\n",
      "hasGender           721 non-null bool\n",
      "Pr_Male             644 non-null float64\n",
      "Egg_Group_1         721 non-null object\n",
      "Egg_Group_2         191 non-null object\n",
      "hasMegaEvolution    721 non-null bool\n",
      "Height_m            721 non-null float64\n",
      "Weight_kg           721 non-null float64\n",
      "Catch_Rate          721 non-null int64\n",
      "Body_Style          721 non-null object\n",
      "dtypes: bool(3), float64(3), int64(10), object(7)\n",
      "memory usage: 114.8+ KB\n"
     ]
    }
   ],
   "source": [
    "pk.info()"
   ]
  },
  {
   "cell_type": "code",
   "execution_count": 41,
   "metadata": {},
   "outputs": [
    {
     "data": {
      "text/plain": [
       "(721, 23)"
      ]
     },
     "execution_count": 41,
     "metadata": {},
     "output_type": "execute_result"
    }
   ],
   "source": [
    "pk.shape"
   ]
  },
  {
   "cell_type": "code",
   "execution_count": 42,
   "metadata": {},
   "outputs": [
    {
     "data": {
      "text/html": [
       "<div>\n",
       "<style scoped>\n",
       "    .dataframe tbody tr th:only-of-type {\n",
       "        vertical-align: middle;\n",
       "    }\n",
       "\n",
       "    .dataframe tbody tr th {\n",
       "        vertical-align: top;\n",
       "    }\n",
       "\n",
       "    .dataframe thead th {\n",
       "        text-align: right;\n",
       "    }\n",
       "</style>\n",
       "<table border=\"1\" class=\"dataframe\">\n",
       "  <thead>\n",
       "    <tr style=\"text-align: right;\">\n",
       "      <th></th>\n",
       "      <th>Number</th>\n",
       "      <th>Name</th>\n",
       "      <th>Type_1</th>\n",
       "      <th>Type_2</th>\n",
       "      <th>Total</th>\n",
       "      <th>HP</th>\n",
       "      <th>Attack</th>\n",
       "      <th>Defense</th>\n",
       "      <th>Sp_Atk</th>\n",
       "      <th>Sp_Def</th>\n",
       "      <th>...</th>\n",
       "      <th>Color</th>\n",
       "      <th>hasGender</th>\n",
       "      <th>Pr_Male</th>\n",
       "      <th>Egg_Group_1</th>\n",
       "      <th>Egg_Group_2</th>\n",
       "      <th>hasMegaEvolution</th>\n",
       "      <th>Height_m</th>\n",
       "      <th>Weight_kg</th>\n",
       "      <th>Catch_Rate</th>\n",
       "      <th>Body_Style</th>\n",
       "    </tr>\n",
       "  </thead>\n",
       "  <tbody>\n",
       "    <tr>\n",
       "      <th>0</th>\n",
       "      <td>1</td>\n",
       "      <td>Bulbasaur</td>\n",
       "      <td>Grass</td>\n",
       "      <td>Poison</td>\n",
       "      <td>318</td>\n",
       "      <td>45</td>\n",
       "      <td>49</td>\n",
       "      <td>49</td>\n",
       "      <td>65</td>\n",
       "      <td>65</td>\n",
       "      <td>...</td>\n",
       "      <td>Green</td>\n",
       "      <td>True</td>\n",
       "      <td>0.875</td>\n",
       "      <td>Monster</td>\n",
       "      <td>Grass</td>\n",
       "      <td>False</td>\n",
       "      <td>0.71</td>\n",
       "      <td>6.9</td>\n",
       "      <td>45</td>\n",
       "      <td>quadruped</td>\n",
       "    </tr>\n",
       "    <tr>\n",
       "      <th>1</th>\n",
       "      <td>2</td>\n",
       "      <td>Ivysaur</td>\n",
       "      <td>Grass</td>\n",
       "      <td>Poison</td>\n",
       "      <td>405</td>\n",
       "      <td>60</td>\n",
       "      <td>62</td>\n",
       "      <td>63</td>\n",
       "      <td>80</td>\n",
       "      <td>80</td>\n",
       "      <td>...</td>\n",
       "      <td>Green</td>\n",
       "      <td>True</td>\n",
       "      <td>0.875</td>\n",
       "      <td>Monster</td>\n",
       "      <td>Grass</td>\n",
       "      <td>False</td>\n",
       "      <td>0.99</td>\n",
       "      <td>13.0</td>\n",
       "      <td>45</td>\n",
       "      <td>quadruped</td>\n",
       "    </tr>\n",
       "    <tr>\n",
       "      <th>2</th>\n",
       "      <td>3</td>\n",
       "      <td>Venusaur</td>\n",
       "      <td>Grass</td>\n",
       "      <td>Poison</td>\n",
       "      <td>525</td>\n",
       "      <td>80</td>\n",
       "      <td>82</td>\n",
       "      <td>83</td>\n",
       "      <td>100</td>\n",
       "      <td>100</td>\n",
       "      <td>...</td>\n",
       "      <td>Green</td>\n",
       "      <td>True</td>\n",
       "      <td>0.875</td>\n",
       "      <td>Monster</td>\n",
       "      <td>Grass</td>\n",
       "      <td>True</td>\n",
       "      <td>2.01</td>\n",
       "      <td>100.0</td>\n",
       "      <td>45</td>\n",
       "      <td>quadruped</td>\n",
       "    </tr>\n",
       "    <tr>\n",
       "      <th>3</th>\n",
       "      <td>4</td>\n",
       "      <td>Charmander</td>\n",
       "      <td>Fire</td>\n",
       "      <td>NaN</td>\n",
       "      <td>309</td>\n",
       "      <td>39</td>\n",
       "      <td>52</td>\n",
       "      <td>43</td>\n",
       "      <td>60</td>\n",
       "      <td>50</td>\n",
       "      <td>...</td>\n",
       "      <td>Red</td>\n",
       "      <td>True</td>\n",
       "      <td>0.875</td>\n",
       "      <td>Monster</td>\n",
       "      <td>Dragon</td>\n",
       "      <td>False</td>\n",
       "      <td>0.61</td>\n",
       "      <td>8.5</td>\n",
       "      <td>45</td>\n",
       "      <td>bipedal_tailed</td>\n",
       "    </tr>\n",
       "    <tr>\n",
       "      <th>4</th>\n",
       "      <td>5</td>\n",
       "      <td>Charmeleon</td>\n",
       "      <td>Fire</td>\n",
       "      <td>NaN</td>\n",
       "      <td>405</td>\n",
       "      <td>58</td>\n",
       "      <td>64</td>\n",
       "      <td>58</td>\n",
       "      <td>80</td>\n",
       "      <td>65</td>\n",
       "      <td>...</td>\n",
       "      <td>Red</td>\n",
       "      <td>True</td>\n",
       "      <td>0.875</td>\n",
       "      <td>Monster</td>\n",
       "      <td>Dragon</td>\n",
       "      <td>False</td>\n",
       "      <td>1.09</td>\n",
       "      <td>19.0</td>\n",
       "      <td>45</td>\n",
       "      <td>bipedal_tailed</td>\n",
       "    </tr>\n",
       "  </tbody>\n",
       "</table>\n",
       "<p>5 rows × 23 columns</p>\n",
       "</div>"
      ],
      "text/plain": [
       "   Number        Name Type_1  Type_2  Total  HP  Attack  Defense  Sp_Atk  \\\n",
       "0       1   Bulbasaur  Grass  Poison    318  45      49       49      65   \n",
       "1       2     Ivysaur  Grass  Poison    405  60      62       63      80   \n",
       "2       3    Venusaur  Grass  Poison    525  80      82       83     100   \n",
       "3       4  Charmander   Fire     NaN    309  39      52       43      60   \n",
       "4       5  Charmeleon   Fire     NaN    405  58      64       58      80   \n",
       "\n",
       "   Sp_Def  ...  Color  hasGender  Pr_Male Egg_Group_1  Egg_Group_2  \\\n",
       "0      65  ...  Green       True    0.875     Monster        Grass   \n",
       "1      80  ...  Green       True    0.875     Monster        Grass   \n",
       "2     100  ...  Green       True    0.875     Monster        Grass   \n",
       "3      50  ...    Red       True    0.875     Monster       Dragon   \n",
       "4      65  ...    Red       True    0.875     Monster       Dragon   \n",
       "\n",
       "   hasMegaEvolution Height_m Weight_kg  Catch_Rate      Body_Style  \n",
       "0             False     0.71       6.9          45       quadruped  \n",
       "1             False     0.99      13.0          45       quadruped  \n",
       "2              True     2.01     100.0          45       quadruped  \n",
       "3             False     0.61       8.5          45  bipedal_tailed  \n",
       "4             False     1.09      19.0          45  bipedal_tailed  \n",
       "\n",
       "[5 rows x 23 columns]"
      ]
     },
     "execution_count": 42,
     "metadata": {},
     "output_type": "execute_result"
    }
   ],
   "source": [
    "pk.head(5)"
   ]
  },
  {
   "cell_type": "code",
   "execution_count": 43,
   "metadata": {},
   "outputs": [
    {
     "data": {
      "text/html": [
       "<div>\n",
       "<style scoped>\n",
       "    .dataframe tbody tr th:only-of-type {\n",
       "        vertical-align: middle;\n",
       "    }\n",
       "\n",
       "    .dataframe tbody tr th {\n",
       "        vertical-align: top;\n",
       "    }\n",
       "\n",
       "    .dataframe thead th {\n",
       "        text-align: right;\n",
       "    }\n",
       "</style>\n",
       "<table border=\"1\" class=\"dataframe\">\n",
       "  <thead>\n",
       "    <tr style=\"text-align: right;\">\n",
       "      <th></th>\n",
       "      <th>Number</th>\n",
       "      <th>Total</th>\n",
       "      <th>HP</th>\n",
       "      <th>Attack</th>\n",
       "      <th>Defense</th>\n",
       "      <th>Sp_Atk</th>\n",
       "      <th>Sp_Def</th>\n",
       "      <th>Speed</th>\n",
       "      <th>Generation</th>\n",
       "      <th>Pr_Male</th>\n",
       "      <th>Height_m</th>\n",
       "      <th>Weight_kg</th>\n",
       "      <th>Catch_Rate</th>\n",
       "    </tr>\n",
       "  </thead>\n",
       "  <tbody>\n",
       "    <tr>\n",
       "      <th>count</th>\n",
       "      <td>721.00000</td>\n",
       "      <td>721.000000</td>\n",
       "      <td>721.000000</td>\n",
       "      <td>721.000000</td>\n",
       "      <td>721.000000</td>\n",
       "      <td>721.000000</td>\n",
       "      <td>721.000000</td>\n",
       "      <td>721.000000</td>\n",
       "      <td>721.000000</td>\n",
       "      <td>644.000000</td>\n",
       "      <td>721.000000</td>\n",
       "      <td>721.000000</td>\n",
       "      <td>721.000000</td>\n",
       "    </tr>\n",
       "    <tr>\n",
       "      <th>mean</th>\n",
       "      <td>361.00000</td>\n",
       "      <td>417.945908</td>\n",
       "      <td>68.380028</td>\n",
       "      <td>75.013870</td>\n",
       "      <td>70.808599</td>\n",
       "      <td>68.737864</td>\n",
       "      <td>69.291262</td>\n",
       "      <td>65.714286</td>\n",
       "      <td>3.323162</td>\n",
       "      <td>0.553377</td>\n",
       "      <td>1.144979</td>\n",
       "      <td>56.773370</td>\n",
       "      <td>100.246879</td>\n",
       "    </tr>\n",
       "    <tr>\n",
       "      <th>std</th>\n",
       "      <td>208.27906</td>\n",
       "      <td>109.663671</td>\n",
       "      <td>25.848272</td>\n",
       "      <td>28.984475</td>\n",
       "      <td>29.296558</td>\n",
       "      <td>28.788005</td>\n",
       "      <td>27.015860</td>\n",
       "      <td>27.277920</td>\n",
       "      <td>1.669873</td>\n",
       "      <td>0.199969</td>\n",
       "      <td>1.044369</td>\n",
       "      <td>89.095667</td>\n",
       "      <td>76.573513</td>\n",
       "    </tr>\n",
       "    <tr>\n",
       "      <th>min</th>\n",
       "      <td>1.00000</td>\n",
       "      <td>180.000000</td>\n",
       "      <td>1.000000</td>\n",
       "      <td>5.000000</td>\n",
       "      <td>5.000000</td>\n",
       "      <td>10.000000</td>\n",
       "      <td>20.000000</td>\n",
       "      <td>5.000000</td>\n",
       "      <td>1.000000</td>\n",
       "      <td>0.000000</td>\n",
       "      <td>0.100000</td>\n",
       "      <td>0.100000</td>\n",
       "      <td>3.000000</td>\n",
       "    </tr>\n",
       "    <tr>\n",
       "      <th>25%</th>\n",
       "      <td>181.00000</td>\n",
       "      <td>320.000000</td>\n",
       "      <td>50.000000</td>\n",
       "      <td>53.000000</td>\n",
       "      <td>50.000000</td>\n",
       "      <td>45.000000</td>\n",
       "      <td>50.000000</td>\n",
       "      <td>45.000000</td>\n",
       "      <td>2.000000</td>\n",
       "      <td>0.500000</td>\n",
       "      <td>0.610000</td>\n",
       "      <td>9.400000</td>\n",
       "      <td>45.000000</td>\n",
       "    </tr>\n",
       "    <tr>\n",
       "      <th>50%</th>\n",
       "      <td>361.00000</td>\n",
       "      <td>424.000000</td>\n",
       "      <td>65.000000</td>\n",
       "      <td>74.000000</td>\n",
       "      <td>65.000000</td>\n",
       "      <td>65.000000</td>\n",
       "      <td>65.000000</td>\n",
       "      <td>65.000000</td>\n",
       "      <td>3.000000</td>\n",
       "      <td>0.500000</td>\n",
       "      <td>0.990000</td>\n",
       "      <td>28.000000</td>\n",
       "      <td>65.000000</td>\n",
       "    </tr>\n",
       "    <tr>\n",
       "      <th>75%</th>\n",
       "      <td>541.00000</td>\n",
       "      <td>499.000000</td>\n",
       "      <td>80.000000</td>\n",
       "      <td>95.000000</td>\n",
       "      <td>85.000000</td>\n",
       "      <td>90.000000</td>\n",
       "      <td>85.000000</td>\n",
       "      <td>85.000000</td>\n",
       "      <td>5.000000</td>\n",
       "      <td>0.500000</td>\n",
       "      <td>1.400000</td>\n",
       "      <td>61.000000</td>\n",
       "      <td>180.000000</td>\n",
       "    </tr>\n",
       "    <tr>\n",
       "      <th>max</th>\n",
       "      <td>721.00000</td>\n",
       "      <td>720.000000</td>\n",
       "      <td>255.000000</td>\n",
       "      <td>165.000000</td>\n",
       "      <td>230.000000</td>\n",
       "      <td>154.000000</td>\n",
       "      <td>230.000000</td>\n",
       "      <td>160.000000</td>\n",
       "      <td>6.000000</td>\n",
       "      <td>1.000000</td>\n",
       "      <td>14.500000</td>\n",
       "      <td>950.000000</td>\n",
       "      <td>255.000000</td>\n",
       "    </tr>\n",
       "  </tbody>\n",
       "</table>\n",
       "</div>"
      ],
      "text/plain": [
       "          Number       Total          HP      Attack     Defense      Sp_Atk  \\\n",
       "count  721.00000  721.000000  721.000000  721.000000  721.000000  721.000000   \n",
       "mean   361.00000  417.945908   68.380028   75.013870   70.808599   68.737864   \n",
       "std    208.27906  109.663671   25.848272   28.984475   29.296558   28.788005   \n",
       "min      1.00000  180.000000    1.000000    5.000000    5.000000   10.000000   \n",
       "25%    181.00000  320.000000   50.000000   53.000000   50.000000   45.000000   \n",
       "50%    361.00000  424.000000   65.000000   74.000000   65.000000   65.000000   \n",
       "75%    541.00000  499.000000   80.000000   95.000000   85.000000   90.000000   \n",
       "max    721.00000  720.000000  255.000000  165.000000  230.000000  154.000000   \n",
       "\n",
       "           Sp_Def       Speed  Generation     Pr_Male    Height_m   Weight_kg  \\\n",
       "count  721.000000  721.000000  721.000000  644.000000  721.000000  721.000000   \n",
       "mean    69.291262   65.714286    3.323162    0.553377    1.144979   56.773370   \n",
       "std     27.015860   27.277920    1.669873    0.199969    1.044369   89.095667   \n",
       "min     20.000000    5.000000    1.000000    0.000000    0.100000    0.100000   \n",
       "25%     50.000000   45.000000    2.000000    0.500000    0.610000    9.400000   \n",
       "50%     65.000000   65.000000    3.000000    0.500000    0.990000   28.000000   \n",
       "75%     85.000000   85.000000    5.000000    0.500000    1.400000   61.000000   \n",
       "max    230.000000  160.000000    6.000000    1.000000   14.500000  950.000000   \n",
       "\n",
       "       Catch_Rate  \n",
       "count  721.000000  \n",
       "mean   100.246879  \n",
       "std     76.573513  \n",
       "min      3.000000  \n",
       "25%     45.000000  \n",
       "50%     65.000000  \n",
       "75%    180.000000  \n",
       "max    255.000000  "
      ]
     },
     "execution_count": 43,
     "metadata": {},
     "output_type": "execute_result"
    }
   ],
   "source": [
    "pk.describe()"
   ]
  },
  {
   "cell_type": "code",
   "execution_count": 44,
   "metadata": {},
   "outputs": [
    {
     "data": {
      "text/plain": [
       "Number              721\n",
       "Name                721\n",
       "Type_1              721\n",
       "Type_2              350\n",
       "Total               721\n",
       "HP                  721\n",
       "Attack              721\n",
       "Defense             721\n",
       "Sp_Atk              721\n",
       "Sp_Def              721\n",
       "Speed               721\n",
       "Generation          721\n",
       "isLegendary         721\n",
       "Color               721\n",
       "hasGender           721\n",
       "Pr_Male             644\n",
       "Egg_Group_1         721\n",
       "Egg_Group_2         191\n",
       "hasMegaEvolution    721\n",
       "Height_m            721\n",
       "Weight_kg           721\n",
       "Catch_Rate          721\n",
       "Body_Style          721\n",
       "dtype: int64"
      ]
     },
     "execution_count": 44,
     "metadata": {},
     "output_type": "execute_result"
    }
   ],
   "source": [
    "pk.count()"
   ]
  },
  {
   "cell_type": "code",
   "execution_count": 45,
   "metadata": {
    "scrolled": true
   },
   "outputs": [
    {
     "data": {
      "text/html": [
       "<div>\n",
       "<style scoped>\n",
       "    .dataframe tbody tr th:only-of-type {\n",
       "        vertical-align: middle;\n",
       "    }\n",
       "\n",
       "    .dataframe tbody tr th {\n",
       "        vertical-align: top;\n",
       "    }\n",
       "\n",
       "    .dataframe thead th {\n",
       "        text-align: right;\n",
       "    }\n",
       "</style>\n",
       "<table border=\"1\" class=\"dataframe\">\n",
       "  <thead>\n",
       "    <tr style=\"text-align: right;\">\n",
       "      <th></th>\n",
       "      <th>Number</th>\n",
       "      <th>Total</th>\n",
       "      <th>HP</th>\n",
       "      <th>Attack</th>\n",
       "      <th>Defense</th>\n",
       "      <th>Sp_Atk</th>\n",
       "      <th>Sp_Def</th>\n",
       "      <th>Speed</th>\n",
       "      <th>Generation</th>\n",
       "      <th>isLegendary</th>\n",
       "      <th>hasGender</th>\n",
       "      <th>Pr_Male</th>\n",
       "      <th>hasMegaEvolution</th>\n",
       "      <th>Height_m</th>\n",
       "      <th>Weight_kg</th>\n",
       "      <th>Catch_Rate</th>\n",
       "    </tr>\n",
       "  </thead>\n",
       "  <tbody>\n",
       "    <tr>\n",
       "      <th>Number</th>\n",
       "      <td>1.000000</td>\n",
       "      <td>0.160370</td>\n",
       "      <td>0.107512</td>\n",
       "      <td>0.138104</td>\n",
       "      <td>0.121401</td>\n",
       "      <td>0.120161</td>\n",
       "      <td>0.111822</td>\n",
       "      <td>0.028156</td>\n",
       "      <td>0.983329</td>\n",
       "      <td>0.135022</td>\n",
       "      <td>-0.100328</td>\n",
       "      <td>-0.013414</td>\n",
       "      <td>-0.117981</td>\n",
       "      <td>-0.009710</td>\n",
       "      <td>0.087309</td>\n",
       "      <td>-0.074931</td>\n",
       "    </tr>\n",
       "    <tr>\n",
       "      <th>Total</th>\n",
       "      <td>0.160370</td>\n",
       "      <td>1.000000</td>\n",
       "      <td>0.642628</td>\n",
       "      <td>0.704164</td>\n",
       "      <td>0.605831</td>\n",
       "      <td>0.723737</td>\n",
       "      <td>0.706501</td>\n",
       "      <td>0.548890</td>\n",
       "      <td>0.092868</td>\n",
       "      <td>0.481837</td>\n",
       "      <td>-0.385978</td>\n",
       "      <td>0.113564</td>\n",
       "      <td>0.228503</td>\n",
       "      <td>0.526813</td>\n",
       "      <td>0.535966</td>\n",
       "      <td>-0.738280</td>\n",
       "    </tr>\n",
       "    <tr>\n",
       "      <th>HP</th>\n",
       "      <td>0.107512</td>\n",
       "      <td>0.642628</td>\n",
       "      <td>1.000000</td>\n",
       "      <td>0.431680</td>\n",
       "      <td>0.228834</td>\n",
       "      <td>0.368640</td>\n",
       "      <td>0.376006</td>\n",
       "      <td>0.170031</td>\n",
       "      <td>0.071545</td>\n",
       "      <td>0.258926</td>\n",
       "      <td>-0.155031</td>\n",
       "      <td>-0.066704</td>\n",
       "      <td>0.093708</td>\n",
       "      <td>0.442872</td>\n",
       "      <td>0.431320</td>\n",
       "      <td>-0.478725</td>\n",
       "    </tr>\n",
       "    <tr>\n",
       "      <th>Attack</th>\n",
       "      <td>0.138104</td>\n",
       "      <td>0.704164</td>\n",
       "      <td>0.431680</td>\n",
       "      <td>1.000000</td>\n",
       "      <td>0.433233</td>\n",
       "      <td>0.335205</td>\n",
       "      <td>0.207211</td>\n",
       "      <td>0.335013</td>\n",
       "      <td>0.093857</td>\n",
       "      <td>0.302786</td>\n",
       "      <td>-0.196892</td>\n",
       "      <td>0.213882</td>\n",
       "      <td>0.203840</td>\n",
       "      <td>0.408590</td>\n",
       "      <td>0.469395</td>\n",
       "      <td>-0.525106</td>\n",
       "    </tr>\n",
       "    <tr>\n",
       "      <th>Defense</th>\n",
       "      <td>0.121401</td>\n",
       "      <td>0.605831</td>\n",
       "      <td>0.228834</td>\n",
       "      <td>0.433233</td>\n",
       "      <td>1.000000</td>\n",
       "      <td>0.202519</td>\n",
       "      <td>0.483986</td>\n",
       "      <td>-0.008663</td>\n",
       "      <td>0.068409</td>\n",
       "      <td>0.274446</td>\n",
       "      <td>-0.269466</td>\n",
       "      <td>0.063899</td>\n",
       "      <td>0.122666</td>\n",
       "      <td>0.354205</td>\n",
       "      <td>0.476983</td>\n",
       "      <td>-0.436558</td>\n",
       "    </tr>\n",
       "    <tr>\n",
       "      <th>Sp_Atk</th>\n",
       "      <td>0.120161</td>\n",
       "      <td>0.723737</td>\n",
       "      <td>0.368640</td>\n",
       "      <td>0.335205</td>\n",
       "      <td>0.202519</td>\n",
       "      <td>1.000000</td>\n",
       "      <td>0.492861</td>\n",
       "      <td>0.443106</td>\n",
       "      <td>0.069689</td>\n",
       "      <td>0.409739</td>\n",
       "      <td>-0.336579</td>\n",
       "      <td>0.105893</td>\n",
       "      <td>0.175581</td>\n",
       "      <td>0.330579</td>\n",
       "      <td>0.285048</td>\n",
       "      <td>-0.539114</td>\n",
       "    </tr>\n",
       "    <tr>\n",
       "      <th>Sp_Def</th>\n",
       "      <td>0.111822</td>\n",
       "      <td>0.706501</td>\n",
       "      <td>0.376006</td>\n",
       "      <td>0.207211</td>\n",
       "      <td>0.483986</td>\n",
       "      <td>0.492861</td>\n",
       "      <td>1.000000</td>\n",
       "      <td>0.233487</td>\n",
       "      <td>0.055421</td>\n",
       "      <td>0.360215</td>\n",
       "      <td>-0.337265</td>\n",
       "      <td>0.017941</td>\n",
       "      <td>0.149796</td>\n",
       "      <td>0.313196</td>\n",
       "      <td>0.328645</td>\n",
       "      <td>-0.513014</td>\n",
       "    </tr>\n",
       "    <tr>\n",
       "      <th>Speed</th>\n",
       "      <td>0.028156</td>\n",
       "      <td>0.548890</td>\n",
       "      <td>0.170031</td>\n",
       "      <td>0.335013</td>\n",
       "      <td>-0.008663</td>\n",
       "      <td>0.443106</td>\n",
       "      <td>0.233487</td>\n",
       "      <td>1.000000</td>\n",
       "      <td>0.003920</td>\n",
       "      <td>0.286082</td>\n",
       "      <td>-0.216964</td>\n",
       "      <td>0.070098</td>\n",
       "      <td>0.147844</td>\n",
       "      <td>0.224617</td>\n",
       "      <td>0.108637</td>\n",
       "      <td>-0.410557</td>\n",
       "    </tr>\n",
       "    <tr>\n",
       "      <th>Generation</th>\n",
       "      <td>0.983329</td>\n",
       "      <td>0.092868</td>\n",
       "      <td>0.071545</td>\n",
       "      <td>0.093857</td>\n",
       "      <td>0.068409</td>\n",
       "      <td>0.069689</td>\n",
       "      <td>0.055421</td>\n",
       "      <td>0.003920</td>\n",
       "      <td>1.000000</td>\n",
       "      <td>0.071875</td>\n",
       "      <td>-0.029916</td>\n",
       "      <td>0.010912</td>\n",
       "      <td>-0.125374</td>\n",
       "      <td>-0.051304</td>\n",
       "      <td>0.034003</td>\n",
       "      <td>-0.025227</td>\n",
       "    </tr>\n",
       "    <tr>\n",
       "      <th>isLegendary</th>\n",
       "      <td>0.135022</td>\n",
       "      <td>0.481837</td>\n",
       "      <td>0.258926</td>\n",
       "      <td>0.302786</td>\n",
       "      <td>0.274446</td>\n",
       "      <td>0.409739</td>\n",
       "      <td>0.360215</td>\n",
       "      <td>0.286082</td>\n",
       "      <td>0.071875</td>\n",
       "      <td>1.000000</td>\n",
       "      <td>-0.644714</td>\n",
       "      <td>0.095428</td>\n",
       "      <td>0.047955</td>\n",
       "      <td>0.326323</td>\n",
       "      <td>0.425219</td>\n",
       "      <td>-0.319302</td>\n",
       "    </tr>\n",
       "    <tr>\n",
       "      <th>hasGender</th>\n",
       "      <td>-0.100328</td>\n",
       "      <td>-0.385978</td>\n",
       "      <td>-0.155031</td>\n",
       "      <td>-0.196892</td>\n",
       "      <td>-0.269466</td>\n",
       "      <td>-0.336579</td>\n",
       "      <td>-0.337265</td>\n",
       "      <td>-0.216964</td>\n",
       "      <td>-0.029916</td>\n",
       "      <td>-0.644714</td>\n",
       "      <td>1.000000</td>\n",
       "      <td>NaN</td>\n",
       "      <td>0.016769</td>\n",
       "      <td>-0.200026</td>\n",
       "      <td>-0.361465</td>\n",
       "      <td>0.272304</td>\n",
       "    </tr>\n",
       "    <tr>\n",
       "      <th>Pr_Male</th>\n",
       "      <td>-0.013414</td>\n",
       "      <td>0.113564</td>\n",
       "      <td>-0.066704</td>\n",
       "      <td>0.213882</td>\n",
       "      <td>0.063899</td>\n",
       "      <td>0.105893</td>\n",
       "      <td>0.017941</td>\n",
       "      <td>0.070098</td>\n",
       "      <td>0.010912</td>\n",
       "      <td>0.095428</td>\n",
       "      <td>NaN</td>\n",
       "      <td>1.000000</td>\n",
       "      <td>0.031731</td>\n",
       "      <td>0.040863</td>\n",
       "      <td>0.061196</td>\n",
       "      <td>-0.253645</td>\n",
       "    </tr>\n",
       "    <tr>\n",
       "      <th>hasMegaEvolution</th>\n",
       "      <td>-0.117981</td>\n",
       "      <td>0.228503</td>\n",
       "      <td>0.093708</td>\n",
       "      <td>0.203840</td>\n",
       "      <td>0.122666</td>\n",
       "      <td>0.175581</td>\n",
       "      <td>0.149796</td>\n",
       "      <td>0.147844</td>\n",
       "      <td>-0.125374</td>\n",
       "      <td>0.047955</td>\n",
       "      <td>0.016769</td>\n",
       "      <td>0.031731</td>\n",
       "      <td>1.000000</td>\n",
       "      <td>0.194621</td>\n",
       "      <td>0.129057</td>\n",
       "      <td>-0.173273</td>\n",
       "    </tr>\n",
       "    <tr>\n",
       "      <th>Height_m</th>\n",
       "      <td>-0.009710</td>\n",
       "      <td>0.526813</td>\n",
       "      <td>0.442872</td>\n",
       "      <td>0.408590</td>\n",
       "      <td>0.354205</td>\n",
       "      <td>0.330579</td>\n",
       "      <td>0.313196</td>\n",
       "      <td>0.224617</td>\n",
       "      <td>-0.051304</td>\n",
       "      <td>0.326323</td>\n",
       "      <td>-0.200026</td>\n",
       "      <td>0.040863</td>\n",
       "      <td>0.194621</td>\n",
       "      <td>1.000000</td>\n",
       "      <td>0.661342</td>\n",
       "      <td>-0.382862</td>\n",
       "    </tr>\n",
       "    <tr>\n",
       "      <th>Weight_kg</th>\n",
       "      <td>0.087309</td>\n",
       "      <td>0.535966</td>\n",
       "      <td>0.431320</td>\n",
       "      <td>0.469395</td>\n",
       "      <td>0.476983</td>\n",
       "      <td>0.285048</td>\n",
       "      <td>0.328645</td>\n",
       "      <td>0.108637</td>\n",
       "      <td>0.034003</td>\n",
       "      <td>0.425219</td>\n",
       "      <td>-0.361465</td>\n",
       "      <td>0.061196</td>\n",
       "      <td>0.129057</td>\n",
       "      <td>0.661342</td>\n",
       "      <td>1.000000</td>\n",
       "      <td>-0.367798</td>\n",
       "    </tr>\n",
       "    <tr>\n",
       "      <th>Catch_Rate</th>\n",
       "      <td>-0.074931</td>\n",
       "      <td>-0.738280</td>\n",
       "      <td>-0.478725</td>\n",
       "      <td>-0.525106</td>\n",
       "      <td>-0.436558</td>\n",
       "      <td>-0.539114</td>\n",
       "      <td>-0.513014</td>\n",
       "      <td>-0.410557</td>\n",
       "      <td>-0.025227</td>\n",
       "      <td>-0.319302</td>\n",
       "      <td>0.272304</td>\n",
       "      <td>-0.253645</td>\n",
       "      <td>-0.173273</td>\n",
       "      <td>-0.382862</td>\n",
       "      <td>-0.367798</td>\n",
       "      <td>1.000000</td>\n",
       "    </tr>\n",
       "  </tbody>\n",
       "</table>\n",
       "</div>"
      ],
      "text/plain": [
       "                    Number     Total        HP    Attack   Defense    Sp_Atk  \\\n",
       "Number            1.000000  0.160370  0.107512  0.138104  0.121401  0.120161   \n",
       "Total             0.160370  1.000000  0.642628  0.704164  0.605831  0.723737   \n",
       "HP                0.107512  0.642628  1.000000  0.431680  0.228834  0.368640   \n",
       "Attack            0.138104  0.704164  0.431680  1.000000  0.433233  0.335205   \n",
       "Defense           0.121401  0.605831  0.228834  0.433233  1.000000  0.202519   \n",
       "Sp_Atk            0.120161  0.723737  0.368640  0.335205  0.202519  1.000000   \n",
       "Sp_Def            0.111822  0.706501  0.376006  0.207211  0.483986  0.492861   \n",
       "Speed             0.028156  0.548890  0.170031  0.335013 -0.008663  0.443106   \n",
       "Generation        0.983329  0.092868  0.071545  0.093857  0.068409  0.069689   \n",
       "isLegendary       0.135022  0.481837  0.258926  0.302786  0.274446  0.409739   \n",
       "hasGender        -0.100328 -0.385978 -0.155031 -0.196892 -0.269466 -0.336579   \n",
       "Pr_Male          -0.013414  0.113564 -0.066704  0.213882  0.063899  0.105893   \n",
       "hasMegaEvolution -0.117981  0.228503  0.093708  0.203840  0.122666  0.175581   \n",
       "Height_m         -0.009710  0.526813  0.442872  0.408590  0.354205  0.330579   \n",
       "Weight_kg         0.087309  0.535966  0.431320  0.469395  0.476983  0.285048   \n",
       "Catch_Rate       -0.074931 -0.738280 -0.478725 -0.525106 -0.436558 -0.539114   \n",
       "\n",
       "                    Sp_Def     Speed  Generation  isLegendary  hasGender  \\\n",
       "Number            0.111822  0.028156    0.983329     0.135022  -0.100328   \n",
       "Total             0.706501  0.548890    0.092868     0.481837  -0.385978   \n",
       "HP                0.376006  0.170031    0.071545     0.258926  -0.155031   \n",
       "Attack            0.207211  0.335013    0.093857     0.302786  -0.196892   \n",
       "Defense           0.483986 -0.008663    0.068409     0.274446  -0.269466   \n",
       "Sp_Atk            0.492861  0.443106    0.069689     0.409739  -0.336579   \n",
       "Sp_Def            1.000000  0.233487    0.055421     0.360215  -0.337265   \n",
       "Speed             0.233487  1.000000    0.003920     0.286082  -0.216964   \n",
       "Generation        0.055421  0.003920    1.000000     0.071875  -0.029916   \n",
       "isLegendary       0.360215  0.286082    0.071875     1.000000  -0.644714   \n",
       "hasGender        -0.337265 -0.216964   -0.029916    -0.644714   1.000000   \n",
       "Pr_Male           0.017941  0.070098    0.010912     0.095428        NaN   \n",
       "hasMegaEvolution  0.149796  0.147844   -0.125374     0.047955   0.016769   \n",
       "Height_m          0.313196  0.224617   -0.051304     0.326323  -0.200026   \n",
       "Weight_kg         0.328645  0.108637    0.034003     0.425219  -0.361465   \n",
       "Catch_Rate       -0.513014 -0.410557   -0.025227    -0.319302   0.272304   \n",
       "\n",
       "                   Pr_Male  hasMegaEvolution  Height_m  Weight_kg  Catch_Rate  \n",
       "Number           -0.013414         -0.117981 -0.009710   0.087309   -0.074931  \n",
       "Total             0.113564          0.228503  0.526813   0.535966   -0.738280  \n",
       "HP               -0.066704          0.093708  0.442872   0.431320   -0.478725  \n",
       "Attack            0.213882          0.203840  0.408590   0.469395   -0.525106  \n",
       "Defense           0.063899          0.122666  0.354205   0.476983   -0.436558  \n",
       "Sp_Atk            0.105893          0.175581  0.330579   0.285048   -0.539114  \n",
       "Sp_Def            0.017941          0.149796  0.313196   0.328645   -0.513014  \n",
       "Speed             0.070098          0.147844  0.224617   0.108637   -0.410557  \n",
       "Generation        0.010912         -0.125374 -0.051304   0.034003   -0.025227  \n",
       "isLegendary       0.095428          0.047955  0.326323   0.425219   -0.319302  \n",
       "hasGender              NaN          0.016769 -0.200026  -0.361465    0.272304  \n",
       "Pr_Male           1.000000          0.031731  0.040863   0.061196   -0.253645  \n",
       "hasMegaEvolution  0.031731          1.000000  0.194621   0.129057   -0.173273  \n",
       "Height_m          0.040863          0.194621  1.000000   0.661342   -0.382862  \n",
       "Weight_kg         0.061196          0.129057  0.661342   1.000000   -0.367798  \n",
       "Catch_Rate       -0.253645         -0.173273 -0.382862  -0.367798    1.000000  "
      ]
     },
     "execution_count": 45,
     "metadata": {},
     "output_type": "execute_result"
    }
   ],
   "source": [
    "pk.corr()"
   ]
  },
  {
   "cell_type": "code",
   "execution_count": 46,
   "metadata": {},
   "outputs": [
    {
     "data": {
      "text/html": [
       "<div>\n",
       "<style scoped>\n",
       "    .dataframe tbody tr th:only-of-type {\n",
       "        vertical-align: middle;\n",
       "    }\n",
       "\n",
       "    .dataframe tbody tr th {\n",
       "        vertical-align: top;\n",
       "    }\n",
       "\n",
       "    .dataframe thead th {\n",
       "        text-align: right;\n",
       "    }\n",
       "</style>\n",
       "<table border=\"1\" class=\"dataframe\">\n",
       "  <thead>\n",
       "    <tr style=\"text-align: right;\">\n",
       "      <th></th>\n",
       "      <th>Number</th>\n",
       "      <th>Name</th>\n",
       "      <th>Type_1</th>\n",
       "      <th>Type_2</th>\n",
       "      <th>Total</th>\n",
       "      <th>HP</th>\n",
       "      <th>Attack</th>\n",
       "      <th>Defense</th>\n",
       "      <th>Sp_Atk</th>\n",
       "      <th>Sp_Def</th>\n",
       "      <th>...</th>\n",
       "      <th>Color</th>\n",
       "      <th>hasGender</th>\n",
       "      <th>Pr_Male</th>\n",
       "      <th>Egg_Group_1</th>\n",
       "      <th>Egg_Group_2</th>\n",
       "      <th>hasMegaEvolution</th>\n",
       "      <th>Height_m</th>\n",
       "      <th>Weight_kg</th>\n",
       "      <th>Catch_Rate</th>\n",
       "      <th>Body_Style</th>\n",
       "    </tr>\n",
       "  </thead>\n",
       "  <tbody>\n",
       "    <tr>\n",
       "      <th>408</th>\n",
       "      <td>409</td>\n",
       "      <td>Rampardos</td>\n",
       "      <td>Rock</td>\n",
       "      <td>NaN</td>\n",
       "      <td>495</td>\n",
       "      <td>97</td>\n",
       "      <td>165</td>\n",
       "      <td>60</td>\n",
       "      <td>65</td>\n",
       "      <td>50</td>\n",
       "      <td>...</td>\n",
       "      <td>Blue</td>\n",
       "      <td>True</td>\n",
       "      <td>0.875</td>\n",
       "      <td>Monster</td>\n",
       "      <td>NaN</td>\n",
       "      <td>False</td>\n",
       "      <td>1.60</td>\n",
       "      <td>102.5</td>\n",
       "      <td>45</td>\n",
       "      <td>bipedal_tailed</td>\n",
       "    </tr>\n",
       "    <tr>\n",
       "      <th>288</th>\n",
       "      <td>289</td>\n",
       "      <td>Slaking</td>\n",
       "      <td>Normal</td>\n",
       "      <td>NaN</td>\n",
       "      <td>670</td>\n",
       "      <td>150</td>\n",
       "      <td>160</td>\n",
       "      <td>100</td>\n",
       "      <td>95</td>\n",
       "      <td>65</td>\n",
       "      <td>...</td>\n",
       "      <td>Brown</td>\n",
       "      <td>True</td>\n",
       "      <td>0.500</td>\n",
       "      <td>Field</td>\n",
       "      <td>NaN</td>\n",
       "      <td>False</td>\n",
       "      <td>2.01</td>\n",
       "      <td>130.5</td>\n",
       "      <td>45</td>\n",
       "      <td>bipedal_tailless</td>\n",
       "    </tr>\n",
       "    <tr>\n",
       "      <th>485</th>\n",
       "      <td>486</td>\n",
       "      <td>Regigigas</td>\n",
       "      <td>Normal</td>\n",
       "      <td>NaN</td>\n",
       "      <td>670</td>\n",
       "      <td>110</td>\n",
       "      <td>160</td>\n",
       "      <td>110</td>\n",
       "      <td>80</td>\n",
       "      <td>110</td>\n",
       "      <td>...</td>\n",
       "      <td>White</td>\n",
       "      <td>False</td>\n",
       "      <td>NaN</td>\n",
       "      <td>Undiscovered</td>\n",
       "      <td>NaN</td>\n",
       "      <td>False</td>\n",
       "      <td>3.71</td>\n",
       "      <td>420.0</td>\n",
       "      <td>3</td>\n",
       "      <td>bipedal_tailless</td>\n",
       "    </tr>\n",
       "    <tr>\n",
       "      <th>643</th>\n",
       "      <td>644</td>\n",
       "      <td>Zekrom</td>\n",
       "      <td>Dragon</td>\n",
       "      <td>Electric</td>\n",
       "      <td>680</td>\n",
       "      <td>100</td>\n",
       "      <td>150</td>\n",
       "      <td>120</td>\n",
       "      <td>120</td>\n",
       "      <td>100</td>\n",
       "      <td>...</td>\n",
       "      <td>Black</td>\n",
       "      <td>False</td>\n",
       "      <td>NaN</td>\n",
       "      <td>Undiscovered</td>\n",
       "      <td>NaN</td>\n",
       "      <td>False</td>\n",
       "      <td>2.90</td>\n",
       "      <td>345.0</td>\n",
       "      <td>3</td>\n",
       "      <td>bipedal_tailed</td>\n",
       "    </tr>\n",
       "    <tr>\n",
       "      <th>382</th>\n",
       "      <td>383</td>\n",
       "      <td>Groudon</td>\n",
       "      <td>Ground</td>\n",
       "      <td>NaN</td>\n",
       "      <td>670</td>\n",
       "      <td>100</td>\n",
       "      <td>150</td>\n",
       "      <td>140</td>\n",
       "      <td>100</td>\n",
       "      <td>90</td>\n",
       "      <td>...</td>\n",
       "      <td>Red</td>\n",
       "      <td>False</td>\n",
       "      <td>NaN</td>\n",
       "      <td>Undiscovered</td>\n",
       "      <td>NaN</td>\n",
       "      <td>False</td>\n",
       "      <td>3.51</td>\n",
       "      <td>950.0</td>\n",
       "      <td>3</td>\n",
       "      <td>bipedal_tailed</td>\n",
       "    </tr>\n",
       "  </tbody>\n",
       "</table>\n",
       "<p>5 rows × 23 columns</p>\n",
       "</div>"
      ],
      "text/plain": [
       "     Number       Name  Type_1    Type_2  Total   HP  Attack  Defense  Sp_Atk  \\\n",
       "408     409  Rampardos    Rock       NaN    495   97     165       60      65   \n",
       "288     289    Slaking  Normal       NaN    670  150     160      100      95   \n",
       "485     486  Regigigas  Normal       NaN    670  110     160      110      80   \n",
       "643     644     Zekrom  Dragon  Electric    680  100     150      120     120   \n",
       "382     383    Groudon  Ground       NaN    670  100     150      140     100   \n",
       "\n",
       "     Sp_Def  ...  Color  hasGender  Pr_Male   Egg_Group_1  Egg_Group_2  \\\n",
       "408      50  ...   Blue       True    0.875       Monster          NaN   \n",
       "288      65  ...  Brown       True    0.500         Field          NaN   \n",
       "485     110  ...  White      False      NaN  Undiscovered          NaN   \n",
       "643     100  ...  Black      False      NaN  Undiscovered          NaN   \n",
       "382      90  ...    Red      False      NaN  Undiscovered          NaN   \n",
       "\n",
       "     hasMegaEvolution Height_m Weight_kg  Catch_Rate        Body_Style  \n",
       "408             False     1.60     102.5          45    bipedal_tailed  \n",
       "288             False     2.01     130.5          45  bipedal_tailless  \n",
       "485             False     3.71     420.0           3  bipedal_tailless  \n",
       "643             False     2.90     345.0           3    bipedal_tailed  \n",
       "382             False     3.51     950.0           3    bipedal_tailed  \n",
       "\n",
       "[5 rows x 23 columns]"
      ]
     },
     "execution_count": 46,
     "metadata": {},
     "output_type": "execute_result"
    }
   ],
   "source": [
    "pk.sort_values(by='Attack', ascending=False).head()"
   ]
  }
 ],
 "metadata": {
  "kernelspec": {
   "display_name": "Python 3",
   "language": "python",
   "name": "python3"
  },
  "language_info": {
   "codemirror_mode": {
    "name": "ipython",
    "version": 3
   },
   "file_extension": ".py",
   "mimetype": "text/x-python",
   "name": "python",
   "nbconvert_exporter": "python",
   "pygments_lexer": "ipython3",
   "version": "3.7.3"
  }
 },
 "nbformat": 4,
 "nbformat_minor": 2
}
